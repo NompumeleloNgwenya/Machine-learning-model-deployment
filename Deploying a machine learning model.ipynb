{
 "cells": [
  {
   "cell_type": "code",
   "execution_count": 1,
   "id": "62998f3d-a50c-4cf6-857c-ad3cea2b7d94",
   "metadata": {},
   "outputs": [],
   "source": [
    "# pip install workspace"
   ]
  },
  {
   "cell_type": "code",
   "execution_count": 2,
   "id": "6b87923c-a219-48cc-b2aa-73d036124c0e",
   "metadata": {},
   "outputs": [],
   "source": [
    "# pip install dataset"
   ]
  },
  {
   "cell_type": "code",
   "execution_count": 3,
   "id": "455366e9-5343-4ea7-9bff-691abb20330d",
   "metadata": {},
   "outputs": [],
   "source": [
    "from azureml.core.workspace import Workspace\n",
    "from azureml.core.dataset import Dataset\n",
    "from azureml.core.experiment import Experiment\n",
    "from azureml.train.automl import AutoMLConfig\n",
    "from azureml.widgets import RunDetails\n",
    "from sklearn.model_selection import train_test_split\n",
    "import pandas as pd"
   ]
  },
  {
   "cell_type": "code",
   "execution_count": 4,
   "id": "b60a7bce-229c-40de-8768-db959b8ebb73",
   "metadata": {},
   "outputs": [],
   "source": [
    "ws = Workspace.from_config()"
   ]
  },
  {
   "cell_type": "code",
   "execution_count": 5,
   "id": "70e43420-4615-4795-a905-2380ef603693",
   "metadata": {},
   "outputs": [
    {
     "data": {
      "text/html": [
       "<div>\n",
       "<style scoped>\n",
       "    .dataframe tbody tr th:only-of-type {\n",
       "        vertical-align: middle;\n",
       "    }\n",
       "\n",
       "    .dataframe tbody tr th {\n",
       "        vertical-align: top;\n",
       "    }\n",
       "\n",
       "    .dataframe thead th {\n",
       "        text-align: right;\n",
       "    }\n",
       "</style>\n",
       "<table border=\"1\" class=\"dataframe\">\n",
       "  <thead>\n",
       "    <tr style=\"text-align: right;\">\n",
       "      <th></th>\n",
       "      <th>PatientID</th>\n",
       "      <th>Pregnancies</th>\n",
       "      <th>PlasmaGlucose</th>\n",
       "      <th>DiastolicBloodPressure</th>\n",
       "      <th>TricepsThickness</th>\n",
       "      <th>SerumInsulin</th>\n",
       "      <th>BMI</th>\n",
       "      <th>DiabetesPedigree</th>\n",
       "      <th>Age</th>\n",
       "      <th>Diabetic</th>\n",
       "    </tr>\n",
       "  </thead>\n",
       "  <tbody>\n",
       "    <tr>\n",
       "      <th>0</th>\n",
       "      <td>1142956</td>\n",
       "      <td>1</td>\n",
       "      <td>78</td>\n",
       "      <td>41</td>\n",
       "      <td>33</td>\n",
       "      <td>311</td>\n",
       "      <td>50.796392</td>\n",
       "      <td>0.420804</td>\n",
       "      <td>24</td>\n",
       "      <td>0</td>\n",
       "    </tr>\n",
       "    <tr>\n",
       "      <th>1</th>\n",
       "      <td>1823377</td>\n",
       "      <td>0</td>\n",
       "      <td>116</td>\n",
       "      <td>92</td>\n",
       "      <td>16</td>\n",
       "      <td>184</td>\n",
       "      <td>18.603630</td>\n",
       "      <td>0.131156</td>\n",
       "      <td>22</td>\n",
       "      <td>0</td>\n",
       "    </tr>\n",
       "    <tr>\n",
       "      <th>2</th>\n",
       "      <td>1916381</td>\n",
       "      <td>8</td>\n",
       "      <td>171</td>\n",
       "      <td>42</td>\n",
       "      <td>29</td>\n",
       "      <td>160</td>\n",
       "      <td>35.482247</td>\n",
       "      <td>0.082671</td>\n",
       "      <td>22</td>\n",
       "      <td>1</td>\n",
       "    </tr>\n",
       "    <tr>\n",
       "      <th>3</th>\n",
       "      <td>1247480</td>\n",
       "      <td>3</td>\n",
       "      <td>108</td>\n",
       "      <td>63</td>\n",
       "      <td>45</td>\n",
       "      <td>297</td>\n",
       "      <td>49.375169</td>\n",
       "      <td>0.100979</td>\n",
       "      <td>46</td>\n",
       "      <td>1</td>\n",
       "    </tr>\n",
       "    <tr>\n",
       "      <th>4</th>\n",
       "      <td>1516947</td>\n",
       "      <td>8</td>\n",
       "      <td>153</td>\n",
       "      <td>99</td>\n",
       "      <td>15</td>\n",
       "      <td>41</td>\n",
       "      <td>35.062139</td>\n",
       "      <td>0.116191</td>\n",
       "      <td>22</td>\n",
       "      <td>1</td>\n",
       "    </tr>\n",
       "  </tbody>\n",
       "</table>\n",
       "</div>"
      ],
      "text/plain": [
       "   PatientID  Pregnancies  PlasmaGlucose  DiastolicBloodPressure  \\\n",
       "0    1142956            1             78                      41   \n",
       "1    1823377            0            116                      92   \n",
       "2    1916381            8            171                      42   \n",
       "3    1247480            3            108                      63   \n",
       "4    1516947            8            153                      99   \n",
       "\n",
       "   TricepsThickness  SerumInsulin        BMI  DiabetesPedigree  Age  Diabetic  \n",
       "0                33           311  50.796392          0.420804   24         0  \n",
       "1                16           184  18.603630          0.131156   22         0  \n",
       "2                29           160  35.482247          0.082671   22         1  \n",
       "3                45           297  49.375169          0.100979   46         1  \n",
       "4                15            41  35.062139          0.116191   22         1  "
      ]
     },
     "execution_count": 5,
     "metadata": {},
     "output_type": "execute_result"
    }
   ],
   "source": [
    "data = pd.read_csv('diabetes2.csv')\n",
    "data.head()"
   ]
  },
  {
   "cell_type": "code",
   "execution_count": 6,
   "id": "e069a59a-31b2-44a1-92cf-dfc0204ec3a5",
   "metadata": {},
   "outputs": [
    {
     "data": {
      "text/plain": [
       "Index(['PatientID', 'Pregnancies', 'PlasmaGlucose', 'DiastolicBloodPressure',\n",
       "       'TricepsThickness', 'SerumInsulin', 'BMI', 'DiabetesPedigree', 'Age',\n",
       "       'Diabetic'],\n",
       "      dtype='object')"
      ]
     },
     "execution_count": 6,
     "metadata": {},
     "output_type": "execute_result"
    }
   ],
   "source": [
    "data.columns"
   ]
  },
  {
   "cell_type": "code",
   "execution_count": 25,
   "id": "b65ecf18-ffdf-44b1-9f7d-8aa4d6b90196",
   "metadata": {},
   "outputs": [],
   "source": [
    "x_train,x_test = train_test_split(data, test_size = 0.2)"
   ]
  },
  {
   "cell_type": "code",
   "execution_count": 8,
   "id": "229630ae-0383-458e-913d-04ed563f81b4",
   "metadata": {},
   "outputs": [],
   "source": [
    "automl_settings={\n",
    "    \"iteration_timeout_minutes\":2,\n",
    "    \"experiment_timeout_minutes\":15,\n",
    "    \"enable_early_stopping\":True,\n",
    "    \"primary_metric\":'AUC_weighted',\n",
    "    \"featurization\": 'auto',\n",
    "    \"n_cross_validations\":5,\n",
    "    \n",
    "}"
   ]
  },
  {
   "cell_type": "code",
   "execution_count": 9,
   "id": "8cabca78-14cd-4ca2-96b2-288fea95d081",
   "metadata": {},
   "outputs": [],
   "source": [
    "automl_config = AutoMLConfig(task='classification',\n",
    "    debug_logs='aotoml_errors.log',\n",
    "    training_data=x_train,\n",
    "    label_column_name= \"Diabetic\",\n",
    "    **automl_settings)"
   ]
  },
  {
   "cell_type": "code",
   "execution_count": 10,
   "id": "cc673449-8237-4141-b8ca-fb0162a89ec4",
   "metadata": {},
   "outputs": [],
   "source": [
    "experiment = Experiment(ws, 'diabetesExpe')"
   ]
  },
  {
   "cell_type": "code",
   "execution_count": 11,
   "id": "fe8235a5-a884-48f6-9def-c5414750b848",
   "metadata": {},
   "outputs": [],
   "source": [
    "# pip install -r /anaconda/envs/azureml_py38/lib/python3.8/site-packages/azureml/automl/core/validated_linux_requirements.txt"
   ]
  },
  {
   "cell_type": "code",
   "execution_count": 12,
   "id": "379088b9-d08c-4e25-86fd-ed4ed8290a9e",
   "metadata": {},
   "outputs": [],
   "source": [
    "# pip install markupsafe==2.0.1"
   ]
  },
  {
   "cell_type": "code",
   "execution_count": 13,
   "id": "ab399913-5f88-4120-b81f-70c544a5beb9",
   "metadata": {},
   "outputs": [
    {
     "name": "stderr",
     "output_type": "stream",
     "text": [
      "WARNING:root:Received unrecognized parameter debug_logs\n"
     ]
    },
    {
     "name": "stdout",
     "output_type": "stream",
     "text": [
      "No run_configuration provided, running on local with default configuration\n",
      "Running in the active local environment.\n"
     ]
    },
    {
     "data": {
      "text/html": [
       "<table style=\"width:100%\"><tr><th>Experiment</th><th>Id</th><th>Type</th><th>Status</th><th>Details Page</th><th>Docs Page</th></tr><tr><td>diabetesExpe</td><td>AutoML_8e5965c5-3e6e-44d2-9f65-2806c235f1da</td><td>automl</td><td>Preparing</td><td><a href=\"https://ml.azure.com/runs/AutoML_8e5965c5-3e6e-44d2-9f65-2806c235f1da?wsid=/subscriptions/724de22f-2491-47e4-ab13-db0fe4e967e3/resourcegroups/mpumii/workspaces/nompumelelongwenya&amp;tid=5ee847be-c9c1-4aa4-bd50-629de16689ba\" target=\"_blank\" rel=\"noopener\">Link to Azure Machine Learning studio</a></td><td><a href=\"https://docs.microsoft.com/en-us/python/api/overview/azure/ml/intro?view=azure-ml-py\" target=\"_blank\" rel=\"noopener\">Link to Documentation</a></td></tr></table>"
      ]
     },
     "metadata": {},
     "output_type": "display_data"
    },
    {
     "name": "stdout",
     "output_type": "stream",
     "text": [
      "Current status: DatasetEvaluation. Gathering dataset statistics.\n",
      "Current status: FeaturesGeneration. Generating features for the dataset.\n",
      "Current status: DatasetFeaturization. Beginning to fit featurizers and featurize the dataset.\n",
      "Current status: DatasetFeaturizationCompleted. Completed fit featurizers and featurizing the dataset.\n",
      "Current status: DatasetCrossValidationSplit. Generating individually featurized CV splits.\n"
     ]
    },
    {
     "name": "stderr",
     "output_type": "stream",
     "text": [
      "2024/06/12 11:29:02 WARNING mlflow.sklearn: Model was missing function: predict. Not logging python_function flavor!\n"
     ]
    },
    {
     "name": "stdout",
     "output_type": "stream",
     "text": [
      "\n",
      "********************************************************************************************\n",
      "DATA GUARDRAILS: \n",
      "\n",
      "TYPE:         Class balancing detection\n",
      "STATUS:       PASSED\n",
      "DESCRIPTION:  Your inputs were analyzed, and all classes are balanced in your training data.\n",
      "              Learn more about imbalanced data: https://aka.ms/AutomatedMLImbalancedData\n",
      "\n",
      "********************************************************************************************\n",
      "\n",
      "TYPE:         Missing feature values imputation\n",
      "STATUS:       PASSED\n",
      "DESCRIPTION:  No feature missing values were detected in the training data.\n",
      "              Learn more about missing value imputation: https://aka.ms/AutomatedMLFeaturization\n",
      "\n",
      "********************************************************************************************\n",
      "\n",
      "TYPE:         High cardinality feature detection\n",
      "STATUS:       PASSED\n",
      "DESCRIPTION:  Your inputs were analyzed, and no high cardinality features were detected.\n",
      "              Learn more about high cardinality feature handling: https://aka.ms/AutomatedMLFeaturization\n",
      "\n",
      "********************************************************************************************\n",
      "Current status: ModelSelection. Beginning model selection.\n",
      "\n",
      "********************************************************************************************\n",
      "ITER: The iteration being evaluated.\n",
      "PIPELINE: A summary description of the pipeline being evaluated.\n",
      "DURATION: Time taken for the current iteration.\n",
      "METRIC: The result of computing score on the fitted pipeline.\n",
      "BEST: The best observed score thus far.\n",
      "********************************************************************************************\n",
      "\n",
      " ITER   PIPELINE                                       DURATION            METRIC      BEST\n",
      "    0   MaxAbsScaler LightGBM                          0:00:54             0.9863    0.9863\n",
      "    1   MaxAbsScaler XGBoostClassifier                 0:01:21             0.9872    0.9872\n",
      "    2   MaxAbsScaler ExtremeRandomTrees                0:00:52             0.9482    0.9872\n",
      "    3   MaxAbsScaler RandomForest                      0:00:53             0.9696    0.9872\n",
      "    4   StandardScalerWrapper LightGBM                 0:00:53             0.9752    0.9872\n",
      "    5   SparseNormalizer XGBoostClassifier             0:01:11             0.9434    0.9872\n",
      "    6   SparseNormalizer RandomForest                  0:00:59             0.9368    0.9872\n",
      "    7   StandardScalerWrapper XGBoostClassifier        0:01:10             0.9828    0.9872\n",
      "    8   SparseNormalizer XGBoostClassifier             0:01:11             0.9461    0.9872\n",
      "    9   MaxAbsScaler RandomForest                      0:00:53             0.9640    0.9872\n",
      "   10   SparseNormalizer LightGBM                      0:00:53             0.9311    0.9872\n",
      "   11   MaxAbsScaler ExtremeRandomTrees                0:01:05             0.9490    0.9872\n",
      "   12   StandardScalerWrapper XGBoostClassifier        0:01:13             0.9764    0.9872\n",
      "   13   StandardScalerWrapper ExtremeRandomTrees       0:00:54             0.9192    0.9872\n",
      "   14   VotingEnsemble                                 0:00:59             0.9874    0.9874\n",
      "   15   StackEnsemble                                  0:01:12             0.9868    0.9874\n",
      "Stopping criteria reached at iteration 16. Ending experiment.\n"
     ]
    },
    {
     "name": "stderr",
     "output_type": "stream",
     "text": [
      "WARNING:root:Received unrecognized parameter debug_logs\n",
      "WARNING:root:Received unrecognized parameter debug_logs\n"
     ]
    },
    {
     "name": "stdout",
     "output_type": "stream",
     "text": [
      "********************************************************************************************\n",
      "Current status: BestRunExplainModel. Best run model explanations started\n",
      "Current status: ModelExplanationDataSetSetup. Model explanations data setup completed\n",
      "Current status: PickSurrogateModel. Choosing LightGBM as the surrogate model for explanations\n",
      "Current status: EngineeredFeatureExplanations. Computation of engineered features started\n"
     ]
    },
    {
     "name": "stderr",
     "output_type": "stream",
     "text": [
      "INFO:interpret_community.common.explanation_utils:Using default datastore for uploads\n"
     ]
    },
    {
     "name": "stdout",
     "output_type": "stream",
     "text": [
      "Current status: EngineeredFeatureExplanations. Computation of engineered features completed\n",
      "Current status: RawFeaturesExplanations. Computation of raw features started\n",
      "Current status: RawFeaturesExplanations. Computation of raw features completed\n",
      "Current status: BestRunExplainModel. Best run model explanations completed\n",
      "********************************************************************************************\n"
     ]
    }
   ],
   "source": [
    "run = experiment.submit(automl_config, show_output=True)"
   ]
  },
  {
   "cell_type": "code",
   "execution_count": 14,
   "id": "969ce4d1-03b1-4503-a339-ef876914aa02",
   "metadata": {},
   "outputs": [
    {
     "name": "stderr",
     "output_type": "stream",
     "text": [
      "WARNING:root:Received unrecognized parameter debug_logs\n",
      "WARNING:root:Received unrecognized parameter debug_logs\n",
      "WARNING:root:Received unrecognized parameter debug_logs\n"
     ]
    }
   ],
   "source": [
    "best_run, model = run.get_output()"
   ]
  },
  {
   "cell_type": "code",
   "execution_count": 15,
   "id": "2bec5c44-bfec-4dc1-bc5b-02e41327fb47",
   "metadata": {},
   "outputs": [
    {
     "data": {
      "application/vnd.jupyter.widget-view+json": {
       "model_id": "dcd2f496d39042feadf1e9f666844525",
       "version_major": 2,
       "version_minor": 0
      },
      "text/plain": [
       "_AutoMLWidget(widget_settings={'childWidgetDisplay': 'popup', 'send_telemetry': False, 'log_level': 'INFO', 's…"
      ]
     },
     "metadata": {},
     "output_type": "display_data"
    },
    {
     "data": {
      "application/aml.mini.widget.v1": "{\"status\": \"Completed\", \"workbench_run_details_uri\": \"https://ml.azure.com/runs/AutoML_8e5965c5-3e6e-44d2-9f65-2806c235f1da?wsid=/subscriptions/724de22f-2491-47e4-ab13-db0fe4e967e3/resourcegroups/mpumii/workspaces/nompumelelongwenya&tid=5ee847be-c9c1-4aa4-bd50-629de16689ba\", \"run_id\": \"AutoML_8e5965c5-3e6e-44d2-9f65-2806c235f1da\", \"run_properties\": {\"run_id\": \"AutoML_8e5965c5-3e6e-44d2-9f65-2806c235f1da\", \"created_utc\": \"2024-06-12T11:28:36.903775Z\", \"properties\": {\"num_iterations\": \"1000\", \"training_type\": \"TrainFull\", \"acquisition_function\": \"EI\", \"primary_metric\": \"AUC_weighted\", \"train_split\": \"0\", \"acquisition_parameter\": \"0\", \"num_cross_validation\": \"5\", \"target\": \"local\", \"AMLSettingsJsonString\": \"{\\\"path\\\":null,\\\"name\\\":\\\"diabetesExpe\\\",\\\"subscription_id\\\":\\\"724de22f-2491-47e4-ab13-db0fe4e967e3\\\",\\\"resource_group\\\":\\\"mpumii\\\",\\\"workspace_name\\\":\\\"nompumelelongwenya\\\",\\\"region\\\":\\\"westus2\\\",\\\"compute_target\\\":\\\"local\\\",\\\"spark_service\\\":null,\\\"azure_service\\\":\\\"Microsoft.AzureNotebookVM\\\",\\\"many_models\\\":false,\\\"pipeline_fetch_max_batch_size\\\":1,\\\"enable_batch_run\\\":false,\\\"enable_parallel_run\\\":false,\\\"num_procs\\\":null,\\\"enable_run_restructure\\\":false,\\\"start_auxiliary_runs_before_parent_complete\\\":false,\\\"enable_code_generation\\\":true,\\\"iterations\\\":1000,\\\"primary_metric\\\":\\\"AUC_weighted\\\",\\\"task_type\\\":\\\"classification\\\",\\\"positive_label\\\":null,\\\"data_script\\\":null,\\\"test_size\\\":0.0,\\\"test_include_predictions_only\\\":false,\\\"validation_size\\\":0.0,\\\"n_cross_validations\\\":5,\\\"y_min\\\":null,\\\"y_max\\\":null,\\\"num_classes\\\":null,\\\"featurization\\\":\\\"auto\\\",\\\"_ignore_package_version_incompatibilities\\\":false,\\\"is_timeseries\\\":false,\\\"max_cores_per_iteration\\\":1,\\\"max_concurrent_iterations\\\":1,\\\"iteration_timeout_minutes\\\":2,\\\"mem_in_mb\\\":null,\\\"enforce_time_on_windows\\\":false,\\\"experiment_timeout_minutes\\\":15,\\\"experiment_exit_score\\\":null,\\\"partition_column_names\\\":null,\\\"whitelist_models\\\":null,\\\"blacklist_algos\\\":[\\\"TensorFlowLinearClassifier\\\",\\\"TensorFlowDNN\\\"],\\\"supported_models\\\":[\\\"SVM\\\",\\\"MultinomialNaiveBayes\\\",\\\"XGBoostClassifier\\\",\\\"TabnetClassifier\\\",\\\"LinearSVM\\\",\\\"DecisionTree\\\",\\\"TensorFlowDNN\\\",\\\"SGD\\\",\\\"KNN\\\",\\\"AveragedPerceptronClassifier\\\",\\\"ExtremeRandomTrees\\\",\\\"GradientBoosting\\\",\\\"LogisticRegression\\\",\\\"TensorFlowLinearClassifier\\\",\\\"LightGBM\\\",\\\"BernoulliNaiveBayes\\\",\\\"RandomForest\\\"],\\\"private_models\\\":[],\\\"auto_blacklist\\\":true,\\\"blacklist_samples_reached\\\":false,\\\"exclude_nan_labels\\\":true,\\\"verbosity\\\":20,\\\"_debug_log\\\":\\\"automl.log\\\",\\\"show_warnings\\\":false,\\\"model_explainability\\\":true,\\\"service_url\\\":null,\\\"sdk_url\\\":null,\\\"sdk_packages\\\":null,\\\"enable_onnx_compatible_models\\\":false,\\\"enable_split_onnx_featurizer_estimator_models\\\":false,\\\"vm_type\\\":null,\\\"telemetry_verbosity\\\":20,\\\"send_telemetry\\\":true,\\\"enable_dnn\\\":false,\\\"scenario\\\":\\\"AutoML\\\",\\\"environment_label\\\":null,\\\"save_mlflow\\\":false,\\\"enable_categorical_indicators\\\":false,\\\"force_text_dnn\\\":false,\\\"enable_feature_sweeping\\\":true,\\\"enable_early_stopping\\\":true,\\\"early_stopping_n_iters\\\":10,\\\"arguments\\\":null,\\\"dataset_id\\\":null,\\\"hyperdrive_config\\\":null,\\\"validation_dataset_id\\\":null,\\\"run_source\\\":null,\\\"metrics\\\":null,\\\"enable_metric_confidence\\\":false,\\\"enable_ensembling\\\":true,\\\"enable_stack_ensembling\\\":true,\\\"ensemble_iterations\\\":15,\\\"enable_tf\\\":false,\\\"enable_subsampling\\\":null,\\\"subsample_seed\\\":null,\\\"enable_nimbusml\\\":false,\\\"enable_streaming\\\":false,\\\"force_streaming\\\":false,\\\"track_child_runs\\\":true,\\\"n_best_runs\\\":1,\\\"allowed_private_models\\\":[],\\\"label_column_name\\\":\\\"Diabetic\\\",\\\"weight_column_name\\\":null,\\\"cv_split_column_names\\\":null,\\\"enable_local_managed\\\":false,\\\"_local_managed_run_id\\\":null,\\\"cost_mode\\\":1,\\\"lag_length\\\":0,\\\"metric_operation\\\":\\\"maximize\\\",\\\"preprocess\\\":true,\\\"debug_logs\\\":\\\"aotoml_errors.log\\\"}\", \"DataPrepJsonString\": null, \"EnableSubsampling\": null, \"runTemplate\": \"AutoML\", \"azureml.runsource\": \"automl\", \"display_task_type\": \"classification\", \"dependencies_versions\": \"{\\\"azureml-dataprep-native\\\": \\\"38.0.0\\\", \\\"azureml-dataprep\\\": \\\"4.10.8\\\", \\\"azureml-dataprep-rslex\\\": \\\"2.17.12\\\", \\\"azureml-train-automl-runtime\\\": \\\"1.51.0.post2\\\", \\\"azureml-train-automl-client\\\": \\\"1.51.0.post1\\\", \\\"azureml-training-tabular\\\": \\\"1.51.0.post1\\\", \\\"azureml-automl-runtime\\\": \\\"1.51.0.post1\\\", \\\"azureml-automl-core\\\": \\\"1.51.0.post1\\\", \\\"azureml-mlflow\\\": \\\"1.51.0\\\", \\\"azureml-datadrift\\\": \\\"1.51.0\\\", \\\"azureml-pipeline\\\": \\\"1.51.0\\\", \\\"azureml-contrib-dataset\\\": \\\"1.51.0\\\", \\\"azureml-contrib-notebook\\\": \\\"1.51.0\\\", \\\"azureml-accel-models\\\": \\\"1.51.0\\\", \\\"azureml-automl-dnn-nlp\\\": \\\"1.51.0\\\", \\\"azureml-pipeline-core\\\": \\\"1.51.0\\\", \\\"azureml-responsibleai\\\": \\\"1.51.0\\\", \\\"azureml-contrib-automl-pipeline-steps\\\": \\\"1.51.0\\\", \\\"azureml-pipeline-steps\\\": \\\"1.51.0\\\", \\\"azureml-core\\\": \\\"1.51.0\\\", \\\"azureml-contrib-reinforcementlearning\\\": \\\"1.51.0\\\", \\\"azureml-contrib-server\\\": \\\"1.51.0\\\", \\\"azureml-opendatasets\\\": \\\"1.51.0\\\", \\\"azureml-contrib-services\\\": \\\"1.51.0\\\", \\\"azureml-telemetry\\\": \\\"1.51.0\\\", \\\"azureml-train-restclients-hyperdrive\\\": \\\"1.51.0\\\", \\\"azureml-interpret\\\": \\\"1.51.0\\\", \\\"azureml-train-core\\\": \\\"1.51.0\\\", \\\"azureml-tensorboard\\\": \\\"1.51.0\\\", \\\"azureml-train\\\": \\\"1.51.0\\\", \\\"azureml-contrib-pipeline-steps\\\": \\\"1.51.0\\\", \\\"azureml-explain-model\\\": \\\"1.51.0\\\", \\\"azureml-cli-common\\\": \\\"1.51.0\\\", \\\"azureml-widgets\\\": \\\"1.51.0\\\", \\\"azureml-train-automl\\\": \\\"1.51.0\\\", \\\"azureml-defaults\\\": \\\"1.51.0\\\", \\\"azureml-contrib-fairness\\\": \\\"1.51.0\\\", \\\"azureml-sdk\\\": \\\"1.51.0\\\", \\\"azureml-dataset-runtime\\\": \\\"1.51.0\\\", \\\"azureml-inference-server-http\\\": \\\"0.8.4\\\"}\", \"_aml_system_scenario_identification\": \"Local.Parent\", \"ClientSdkVersion\": \"1.51.0\", \"ClientType\": \"SDK\", \"PlatformVersion\": \"DPV1\", \"environment_cpu_name\": \"AzureML-AutoML\", \"environment_cpu_label\": \"scikit-upgrade2\", \"environment_gpu_name\": \"AzureML-AutoML-GPU\", \"environment_gpu_label\": \"scikit-upgrade2\", \"root_attribution\": \"automl\", \"attribution\": \"AutoML\", \"Orchestrator\": \"AutoML\", \"_azureml.ComputeTargetType\": \"local\", \"ProblemInfoJsonString\": \"{\\\"dataset_num_categorical\\\": 0, \\\"is_sparse\\\": true, \\\"subsampling\\\": false, \\\"has_extra_col\\\": true, \\\"dataset_classes\\\": 2, \\\"dataset_features\\\": 23, \\\"dataset_samples\\\": 4000, \\\"single_frequency_class_detected\\\": false}\"}, \"tags\": {\"model_explain_run\": \"best_run\", \"_aml_system_automl_run_workspace_id\": \"69c9e9f4-6b28-45b3-b38d-214a6dc9618a\", \"best_score\": \"0.9874307111288259\", \"best_pipeline\": \"VotingEnsemble\", \"automl_best_child_run_id\": \"AutoML_8e5965c5-3e6e-44d2-9f65-2806c235f1da_14\", \"model_explain_best_run_child_id\": \"AutoML_8e5965c5-3e6e-44d2-9f65-2806c235f1da_14\"}, \"end_time_utc\": \"2024-06-12T11:46:05.677514Z\", \"status\": \"Completed\", \"log_files\": {}, \"log_groups\": [], \"run_duration\": \"0:17:28\", \"run_number\": \"1718191716\", \"run_queued_details\": {\"status\": \"Completed\", \"details\": null}}, \"child_runs\": [{\"run_id\": \"AutoML_8e5965c5-3e6e-44d2-9f65-2806c235f1da_0\", \"run_number\": 1718191744, \"metric\": null, \"status\": \"Completed\", \"run_type\": null, \"training_percent\": \"100\", \"start_time\": \"2024-06-12T11:29:04.303735Z\", \"end_time\": \"2024-06-12T11:29:58.584528Z\", \"created_time\": \"2024-06-12T11:29:04.052331Z\", \"created_time_dt\": \"2024-06-12T11:29:04.052331Z\", \"duration\": \"0:00:54\", \"iteration\": \"0\", \"goal\": \"AUC_weighted_max\", \"run_name\": \"MaxAbsScaler, LightGBM\", \"run_properties\": \"copy=True\", \"primary_metric\": 0.98628847, \"best_metric\": 0.98628847}, {\"run_id\": \"AutoML_8e5965c5-3e6e-44d2-9f65-2806c235f1da_1\", \"run_number\": 1718191799, \"metric\": null, \"status\": \"Completed\", \"run_type\": null, \"training_percent\": \"100\", \"start_time\": \"2024-06-12T11:29:59.622893Z\", \"end_time\": \"2024-06-12T11:31:20.725698Z\", \"created_time\": \"2024-06-12T11:29:59.345845Z\", \"created_time_dt\": \"2024-06-12T11:29:59.345845Z\", \"duration\": \"0:01:21\", \"iteration\": \"1\", \"goal\": \"AUC_weighted_max\", \"run_name\": \"MaxAbsScaler, XGBoostClassifier\", \"run_properties\": \"copy=True\", \"primary_metric\": 0.98718152, \"best_metric\": 0.98718152}, {\"run_id\": \"AutoML_8e5965c5-3e6e-44d2-9f65-2806c235f1da_2\", \"run_number\": 1718191881, \"metric\": null, \"status\": \"Completed\", \"run_type\": null, \"training_percent\": \"100\", \"start_time\": \"2024-06-12T11:31:21.900142Z\", \"end_time\": \"2024-06-12T11:32:14.13716Z\", \"created_time\": \"2024-06-12T11:31:21.647116Z\", \"created_time_dt\": \"2024-06-12T11:31:21.647116Z\", \"duration\": \"0:00:52\", \"iteration\": \"2\", \"goal\": \"AUC_weighted_max\", \"run_name\": \"MaxAbsScaler, ExtremeRandomTrees\", \"run_properties\": \"copy=True\", \"primary_metric\": 0.94822174, \"best_metric\": 0.98718152}, {\"run_id\": \"AutoML_8e5965c5-3e6e-44d2-9f65-2806c235f1da_3\", \"run_number\": 1718191935, \"metric\": null, \"status\": \"Completed\", \"run_type\": null, \"training_percent\": \"100\", \"start_time\": \"2024-06-12T11:32:16.079949Z\", \"end_time\": \"2024-06-12T11:33:09.275489Z\", \"created_time\": \"2024-06-12T11:32:15.757382Z\", \"created_time_dt\": \"2024-06-12T11:32:15.757382Z\", \"duration\": \"0:00:53\", \"iteration\": \"3\", \"goal\": \"AUC_weighted_max\", \"run_name\": \"MaxAbsScaler, RandomForest\", \"run_properties\": \"copy=True\", \"primary_metric\": 0.96961441, \"best_metric\": 0.98718152}, {\"run_id\": \"AutoML_8e5965c5-3e6e-44d2-9f65-2806c235f1da_4\", \"run_number\": 1718191990, \"metric\": null, \"status\": \"Completed\", \"run_type\": null, \"training_percent\": \"100\", \"start_time\": \"2024-06-12T11:33:10.975646Z\", \"end_time\": \"2024-06-12T11:34:03.897239Z\", \"created_time\": \"2024-06-12T11:33:10.709774Z\", \"created_time_dt\": \"2024-06-12T11:33:10.709774Z\", \"duration\": \"0:00:53\", \"iteration\": \"4\", \"goal\": \"AUC_weighted_max\", \"run_name\": \"StandardScalerWrapper, LightGBM\", \"run_properties\": \"copy=True, with_mean=False, with_std=True\", \"primary_metric\": 0.97519071, \"best_metric\": 0.98718152}, {\"run_id\": \"AutoML_8e5965c5-3e6e-44d2-9f65-2806c235f1da_5\", \"run_number\": 1718192045, \"metric\": null, \"status\": \"Completed\", \"run_type\": null, \"training_percent\": \"100\", \"start_time\": \"2024-06-12T11:34:05.773406Z\", \"end_time\": \"2024-06-12T11:35:17.28421Z\", \"created_time\": \"2024-06-12T11:34:05.46398Z\", \"created_time_dt\": \"2024-06-12T11:34:05.46398Z\", \"duration\": \"0:01:11\", \"iteration\": \"5\", \"goal\": \"AUC_weighted_max\", \"run_name\": \"SparseNormalizer, XGBoostClassifier\", \"run_properties\": \"copy=True, norm='max'\", \"primary_metric\": 0.94337519, \"best_metric\": 0.98718152}, {\"run_id\": \"AutoML_8e5965c5-3e6e-44d2-9f65-2806c235f1da_6\", \"run_number\": 1718192118, \"metric\": null, \"status\": \"Completed\", \"run_type\": null, \"training_percent\": \"100\", \"start_time\": \"2024-06-12T11:35:19.223899Z\", \"end_time\": \"2024-06-12T11:36:18.550464Z\", \"created_time\": \"2024-06-12T11:35:18.96298Z\", \"created_time_dt\": \"2024-06-12T11:35:18.96298Z\", \"duration\": \"0:00:59\", \"iteration\": \"6\", \"goal\": \"AUC_weighted_max\", \"run_name\": \"SparseNormalizer, RandomForest\", \"run_properties\": \"copy=True, norm='l2'\", \"primary_metric\": 0.93679645, \"best_metric\": 0.98718152}, {\"run_id\": \"AutoML_8e5965c5-3e6e-44d2-9f65-2806c235f1da_7\", \"run_number\": 1718192180, \"metric\": null, \"status\": \"Completed\", \"run_type\": null, \"training_percent\": \"100\", \"start_time\": \"2024-06-12T11:36:20.276936Z\", \"end_time\": \"2024-06-12T11:37:30.442263Z\", \"created_time\": \"2024-06-12T11:36:20.011714Z\", \"created_time_dt\": \"2024-06-12T11:36:20.011714Z\", \"duration\": \"0:01:10\", \"iteration\": \"7\", \"goal\": \"AUC_weighted_max\", \"run_name\": \"StandardScalerWrapper, XGBoostClassifier\", \"run_properties\": \"copy=True, with_mean=False, with_std=False\", \"primary_metric\": 0.98281052, \"best_metric\": 0.98718152}, {\"run_id\": \"AutoML_8e5965c5-3e6e-44d2-9f65-2806c235f1da_8\", \"run_number\": 1718192251, \"metric\": null, \"status\": \"Completed\", \"run_type\": null, \"training_percent\": \"100\", \"start_time\": \"2024-06-12T11:37:32.064186Z\", \"end_time\": \"2024-06-12T11:38:43.22556Z\", \"created_time\": \"2024-06-12T11:37:31.800976Z\", \"created_time_dt\": \"2024-06-12T11:37:31.800976Z\", \"duration\": \"0:01:11\", \"iteration\": \"8\", \"goal\": \"AUC_weighted_max\", \"run_name\": \"SparseNormalizer, XGBoostClassifier\", \"run_properties\": \"copy=True, norm='max'\", \"primary_metric\": 0.94606169, \"best_metric\": 0.98718152}, {\"run_id\": \"AutoML_8e5965c5-3e6e-44d2-9f65-2806c235f1da_9\", \"run_number\": 1718192324, \"metric\": null, \"status\": \"Completed\", \"run_type\": null, \"training_percent\": \"100\", \"start_time\": \"2024-06-12T11:38:44.9705Z\", \"end_time\": \"2024-06-12T11:39:38.299154Z\", \"created_time\": \"2024-06-12T11:38:44.673813Z\", \"created_time_dt\": \"2024-06-12T11:38:44.673813Z\", \"duration\": \"0:00:53\", \"iteration\": \"9\", \"goal\": \"AUC_weighted_max\", \"run_name\": \"MaxAbsScaler, RandomForest\", \"run_properties\": \"copy=True\", \"primary_metric\": 0.96396786, \"best_metric\": 0.98718152}, {\"run_id\": \"AutoML_8e5965c5-3e6e-44d2-9f65-2806c235f1da_10\", \"run_number\": 1718192379, \"metric\": null, \"status\": \"Completed\", \"run_type\": null, \"training_percent\": \"100\", \"start_time\": \"2024-06-12T11:39:39.982933Z\", \"end_time\": \"2024-06-12T11:40:33.119562Z\", \"created_time\": \"2024-06-12T11:39:39.689015Z\", \"created_time_dt\": \"2024-06-12T11:39:39.689015Z\", \"duration\": \"0:00:53\", \"iteration\": \"10\", \"goal\": \"AUC_weighted_max\", \"run_name\": \"SparseNormalizer, LightGBM\", \"run_properties\": \"copy=True, norm='l1'\", \"primary_metric\": 0.93108416, \"best_metric\": 0.98718152}, {\"run_id\": \"AutoML_8e5965c5-3e6e-44d2-9f65-2806c235f1da_11\", \"run_number\": 1718192435, \"metric\": null, \"status\": \"Completed\", \"run_type\": null, \"training_percent\": \"100\", \"start_time\": \"2024-06-12T11:40:35.793023Z\", \"end_time\": \"2024-06-12T11:41:40.607338Z\", \"created_time\": \"2024-06-12T11:40:35.495336Z\", \"created_time_dt\": \"2024-06-12T11:40:35.495336Z\", \"duration\": \"0:01:05\", \"iteration\": \"11\", \"goal\": \"AUC_weighted_max\", \"run_name\": \"MaxAbsScaler, ExtremeRandomTrees\", \"run_properties\": \"copy=True\", \"primary_metric\": 0.94899925, \"best_metric\": 0.98718152}, {\"run_id\": \"AutoML_8e5965c5-3e6e-44d2-9f65-2806c235f1da_12\", \"run_number\": 1718192502, \"metric\": null, \"status\": \"Completed\", \"run_type\": null, \"training_percent\": \"100\", \"start_time\": \"2024-06-12T11:41:42.61894Z\", \"end_time\": \"2024-06-12T11:42:55.759212Z\", \"created_time\": \"2024-06-12T11:41:42.294712Z\", \"created_time_dt\": \"2024-06-12T11:41:42.294712Z\", \"duration\": \"0:01:13\", \"iteration\": \"12\", \"goal\": \"AUC_weighted_max\", \"run_name\": \"StandardScalerWrapper, XGBoostClassifier\", \"run_properties\": \"copy=True, with_mean=False, with_std=False\", \"primary_metric\": 0.97643756, \"best_metric\": 0.98718152}, {\"run_id\": \"AutoML_8e5965c5-3e6e-44d2-9f65-2806c235f1da_13\", \"run_number\": 1718192577, \"metric\": null, \"status\": \"Completed\", \"run_type\": null, \"training_percent\": \"100\", \"start_time\": \"2024-06-12T11:42:57.717417Z\", \"end_time\": \"2024-06-12T11:43:52.236454Z\", \"created_time\": \"2024-06-12T11:42:57.423316Z\", \"created_time_dt\": \"2024-06-12T11:42:57.423316Z\", \"duration\": \"0:00:54\", \"iteration\": \"13\", \"goal\": \"AUC_weighted_max\", \"run_name\": \"StandardScalerWrapper, ExtremeRandomTrees\", \"run_properties\": \"copy=True, with_mean=False, with_std=False\", \"primary_metric\": 0.91921102, \"best_metric\": 0.98718152}, {\"run_id\": \"AutoML_8e5965c5-3e6e-44d2-9f65-2806c235f1da_14\", \"run_number\": 1718192632, \"metric\": null, \"status\": \"Completed\", \"run_type\": null, \"training_percent\": \"100\", \"start_time\": \"2024-06-12T11:43:53.028564Z\", \"end_time\": \"2024-06-12T11:44:51.888049Z\", \"created_time\": \"2024-06-12T11:43:52.746308Z\", \"created_time_dt\": \"2024-06-12T11:43:52.746308Z\", \"duration\": \"0:00:59\", \"iteration\": \"14\", \"goal\": \"AUC_weighted_max\", \"run_name\": \"VotingEnsemble\", \"run_properties\": \"classification_labels=numpy.array([0, 1]\", \"primary_metric\": 0.98743071, \"best_metric\": 0.98743071}, {\"run_id\": \"AutoML_8e5965c5-3e6e-44d2-9f65-2806c235f1da_15\", \"run_number\": 1718192692, \"metric\": null, \"status\": \"Completed\", \"run_type\": null, \"training_percent\": \"100\", \"start_time\": \"2024-06-12T11:44:52.58541Z\", \"end_time\": \"2024-06-12T11:46:04.794864Z\", \"created_time\": \"2024-06-12T11:44:52.328789Z\", \"created_time_dt\": \"2024-06-12T11:44:52.328789Z\", \"duration\": \"0:01:12\", \"iteration\": \"15\", \"goal\": \"AUC_weighted_max\", \"run_name\": \"StackEnsemble\", \"run_properties\": \"base_learners=[('1', Pipeline(memory=None, steps=[('maxabsscaler', MaxAbsScaler(copy=True\", \"primary_metric\": 0.98683279, \"best_metric\": 0.98743071}], \"children_metrics\": {\"categories\": [0], \"series\": {\"average_precision_score_micro\": [{\"categories\": [\"0\", \"1\", \"2\", \"3\", \"4\", \"5\", \"6\", \"7\", \"8\", \"9\", \"10\", \"11\", \"12\", \"13\", \"14\", \"15\"], \"mode\": \"markers\", \"name\": \"average_precision_score_micro\", \"stepped\": false, \"type\": \"scatter\", \"data\": [0.9880545853802915, 0.9884944460965446, 0.9510330800800382, 0.9726732417619083, 0.9760988987429595, 0.9496952227054252, 0.9350726150515168, 0.9847462402066979, 0.951530769714535, 0.9599432678364732, 0.9388915618934511, 0.9431256866706939, 0.9792946547683753, 0.8647816831233124, 0.9887375840995263, 0.9875714091877376]}, {\"categories\": [\"0\", \"1\", \"2\", \"3\", \"4\", \"5\", \"6\", \"7\", \"8\", \"9\", \"10\", \"11\", \"12\", \"13\", \"14\", \"15\"], \"mode\": \"lines\", \"name\": \"average_precision_score_micro_max\", \"stepped\": true, \"type\": \"scatter\", \"data\": [0.9880545853802915, 0.9884944460965446, 0.9884944460965446, 0.9884944460965446, 0.9884944460965446, 0.9884944460965446, 0.9884944460965446, 0.9884944460965446, 0.9884944460965446, 0.9884944460965446, 0.9884944460965446, 0.9884944460965446, 0.9884944460965446, 0.9884944460965446, 0.9887375840995263, 0.9887375840995263]}], \"AUC_micro\": [{\"categories\": [\"0\", \"1\", \"2\", \"3\", \"4\", \"5\", \"6\", \"7\", \"8\", \"9\", \"10\", \"11\", \"12\", \"13\", \"14\", \"15\"], \"mode\": \"markers\", \"name\": \"AUC_micro\", \"stepped\": false, \"type\": \"scatter\", \"data\": [0.9878293750000001, 0.9884228125, 0.9511921875, 0.972576875, 0.9757965625, 0.9503340625, 0.9347125000000001, 0.9843328124999999, 0.9528275, 0.9587050000000001, 0.9370621874999999, 0.9411503125000001, 0.9790775, 0.852140625, 0.9885640625000001, 0.98784875]}, {\"categories\": [\"0\", \"1\", \"2\", \"3\", \"4\", \"5\", \"6\", \"7\", \"8\", \"9\", \"10\", \"11\", \"12\", \"13\", \"14\", \"15\"], \"mode\": \"lines\", \"name\": \"AUC_micro_max\", \"stepped\": true, \"type\": \"scatter\", \"data\": [0.9878293750000001, 0.9884228125, 0.9884228125, 0.9884228125, 0.9884228125, 0.9884228125, 0.9884228125, 0.9884228125, 0.9884228125, 0.9884228125, 0.9884228125, 0.9884228125, 0.9884228125, 0.9884228125, 0.9885640625000001, 0.9885640625000001]}], \"f1_score_micro\": [{\"categories\": [\"0\", \"1\", \"2\", \"3\", \"4\", \"5\", \"6\", \"7\", \"8\", \"9\", \"10\", \"11\", \"12\", \"13\", \"14\", \"15\"], \"mode\": \"markers\", \"name\": \"f1_score_micro\", \"stepped\": false, \"type\": \"scatter\", \"data\": [0.9455000000000002, 0.9492499999999999, 0.88425, 0.9120000000000001, 0.915, 0.88125, 0.8629999999999999, 0.93675, 0.885, 0.8870000000000001, 0.861, 0.8557500000000001, 0.92825, 0.6695, 0.9512500000000002, 0.9494999999999999]}, {\"categories\": [\"0\", \"1\", \"2\", \"3\", \"4\", \"5\", \"6\", \"7\", \"8\", \"9\", \"10\", \"11\", \"12\", \"13\", \"14\", \"15\"], \"mode\": \"lines\", \"name\": \"f1_score_micro_max\", \"stepped\": true, \"type\": \"scatter\", \"data\": [0.9455000000000002, 0.9492499999999999, 0.9492499999999999, 0.9492499999999999, 0.9492499999999999, 0.9492499999999999, 0.9492499999999999, 0.9492499999999999, 0.9492499999999999, 0.9492499999999999, 0.9492499999999999, 0.9492499999999999, 0.9492499999999999, 0.9492499999999999, 0.9512500000000002, 0.9512500000000002]}], \"recall_score_micro\": [{\"categories\": [\"0\", \"1\", \"2\", \"3\", \"4\", \"5\", \"6\", \"7\", \"8\", \"9\", \"10\", \"11\", \"12\", \"13\", \"14\", \"15\"], \"mode\": \"markers\", \"name\": \"recall_score_micro\", \"stepped\": false, \"type\": \"scatter\", \"data\": [0.9455000000000002, 0.9492499999999999, 0.8842500000000001, 0.9120000000000001, 0.915, 0.88125, 0.8629999999999999, 0.93675, 0.885, 0.8870000000000001, 0.861, 0.8557500000000001, 0.92825, 0.6695, 0.9512500000000002, 0.9494999999999999]}, {\"categories\": [\"0\", \"1\", \"2\", \"3\", \"4\", \"5\", \"6\", \"7\", \"8\", \"9\", \"10\", \"11\", \"12\", \"13\", \"14\", \"15\"], \"mode\": \"lines\", \"name\": \"recall_score_micro_max\", \"stepped\": true, \"type\": \"scatter\", \"data\": [0.9455000000000002, 0.9492499999999999, 0.9492499999999999, 0.9492499999999999, 0.9492499999999999, 0.9492499999999999, 0.9492499999999999, 0.9492499999999999, 0.9492499999999999, 0.9492499999999999, 0.9492499999999999, 0.9492499999999999, 0.9492499999999999, 0.9492499999999999, 0.9512500000000002, 0.9512500000000002]}], \"balanced_accuracy\": [{\"categories\": [\"0\", \"1\", \"2\", \"3\", \"4\", \"5\", \"6\", \"7\", \"8\", \"9\", \"10\", \"11\", \"12\", \"13\", \"14\", \"15\"], \"mode\": \"markers\", \"name\": \"balanced_accuracy\", \"stepped\": false, \"type\": \"scatter\", \"data\": [0.9372532692826709, 0.9398035364631625, 0.8815707033174673, 0.8945179529923089, 0.8926159721157159, 0.867737654547453, 0.8720245862236136, 0.9226605373230278, 0.8712723228117791, 0.8929443168374632, 0.8386657660293004, 0.8738605862699252, 0.9166885853045613, 0.5060340532132835, 0.941982833296622, 0.9407041386497579]}, {\"categories\": [\"0\", \"1\", \"2\", \"3\", \"4\", \"5\", \"6\", \"7\", \"8\", \"9\", \"10\", \"11\", \"12\", \"13\", \"14\", \"15\"], \"mode\": \"lines\", \"name\": \"balanced_accuracy_max\", \"stepped\": true, \"type\": \"scatter\", \"data\": [0.9372532692826709, 0.9398035364631625, 0.9398035364631625, 0.9398035364631625, 0.9398035364631625, 0.9398035364631625, 0.9398035364631625, 0.9398035364631625, 0.9398035364631625, 0.9398035364631625, 0.9398035364631625, 0.9398035364631625, 0.9398035364631625, 0.9398035364631625, 0.941982833296622, 0.941982833296622]}], \"AUC_weighted\": [{\"categories\": [\"0\", \"1\", \"2\", \"3\", \"4\", \"5\", \"6\", \"7\", \"8\", \"9\", \"10\", \"11\", \"12\", \"13\", \"14\", \"15\"], \"mode\": \"markers\", \"name\": \"AUC_weighted\", \"stepped\": false, \"type\": \"scatter\", \"data\": [0.9862884710053633, 0.9871815224323551, 0.9482217412321357, 0.9696144137607836, 0.9751907105522595, 0.9433751858835947, 0.9367964529320514, 0.9828105248309222, 0.9460616931126496, 0.9639678648421967, 0.931084158460435, 0.9489992530065383, 0.9764375609967721, 0.9192110225153016, 0.9874307111288259, 0.9868327913506073]}, {\"categories\": [\"0\", \"1\", \"2\", \"3\", \"4\", \"5\", \"6\", \"7\", \"8\", \"9\", \"10\", \"11\", \"12\", \"13\", \"14\", \"15\"], \"mode\": \"lines\", \"name\": \"AUC_weighted_max\", \"stepped\": true, \"type\": \"scatter\", \"data\": [0.9862884710053633, 0.9871815224323551, 0.9871815224323551, 0.9871815224323551, 0.9871815224323551, 0.9871815224323551, 0.9871815224323551, 0.9871815224323551, 0.9871815224323551, 0.9871815224323551, 0.9871815224323551, 0.9871815224323551, 0.9871815224323551, 0.9871815224323551, 0.9874307111288259, 0.9874307111288259]}], \"precision_score_macro\": [{\"categories\": [\"0\", \"1\", \"2\", \"3\", \"4\", \"5\", \"6\", \"7\", \"8\", \"9\", \"10\", \"11\", \"12\", \"13\", \"14\", \"15\"], \"mode\": \"markers\", \"name\": \"precision_score_macro\", \"stepped\": false, \"type\": \"scatter\", \"data\": [0.9401864057522467, 0.9458083460887042, 0.866254151086614, 0.9063533477730195, 0.9146538249833158, 0.8660541654736866, 0.8441709235642836, 0.9341215349155874, 0.87068782747168, 0.868619851725845, 0.8466025041420924, 0.8397188256886718, 0.9214774518403983, 0.7340944273332217, 0.9481382145988937, 0.9457206347606805]}, {\"categories\": [\"0\", \"1\", \"2\", \"3\", \"4\", \"5\", \"6\", \"7\", \"8\", \"9\", \"10\", \"11\", \"12\", \"13\", \"14\", \"15\"], \"mode\": \"lines\", \"name\": \"precision_score_macro_max\", \"stepped\": true, \"type\": \"scatter\", \"data\": [0.9401864057522467, 0.9458083460887042, 0.9458083460887042, 0.9458083460887042, 0.9458083460887042, 0.9458083460887042, 0.9458083460887042, 0.9458083460887042, 0.9458083460887042, 0.9458083460887042, 0.9458083460887042, 0.9458083460887042, 0.9458083460887042, 0.9458083460887042, 0.9481382145988937, 0.9481382145988937]}], \"f1_score_macro\": [{\"categories\": [\"0\", \"1\", \"2\", \"3\", \"4\", \"5\", \"6\", \"7\", \"8\", \"9\", \"10\", \"11\", \"12\", \"13\", \"14\", \"15\"], \"mode\": \"markers\", \"name\": \"f1_score_macro\", \"stepped\": false, \"type\": \"scatter\", \"data\": [0.9385480276024479, 0.9426093285492657, 0.8726339460950687, 0.8998309782576712, 0.9019985549494758, 0.8668260193781465, 0.8528741611333501, 0.9279694870076944, 0.8708776041448312, 0.8775232920899787, 0.842197331476249, 0.847310484362402, 0.9189246603482581, 0.4123936411197082, 0.9448376666530265, 0.9429752033437344]}, {\"categories\": [\"0\", \"1\", \"2\", \"3\", \"4\", \"5\", \"6\", \"7\", \"8\", \"9\", \"10\", \"11\", \"12\", \"13\", \"14\", \"15\"], \"mode\": \"lines\", \"name\": \"f1_score_macro_max\", \"stepped\": true, \"type\": \"scatter\", \"data\": [0.9385480276024479, 0.9426093285492657, 0.9426093285492657, 0.9426093285492657, 0.9426093285492657, 0.9426093285492657, 0.9426093285492657, 0.9426093285492657, 0.9426093285492657, 0.9426093285492657, 0.9426093285492657, 0.9426093285492657, 0.9426093285492657, 0.9426093285492657, 0.9448376666530265, 0.9448376666530265]}], \"precision_score_micro\": [{\"categories\": [\"0\", \"1\", \"2\", \"3\", \"4\", \"5\", \"6\", \"7\", \"8\", \"9\", \"10\", \"11\", \"12\", \"13\", \"14\", \"15\"], \"mode\": \"markers\", \"name\": \"precision_score_micro\", \"stepped\": false, \"type\": \"scatter\", \"data\": [0.9455000000000002, 0.9492499999999999, 0.8842500000000001, 0.9120000000000001, 0.915, 0.88125, 0.8629999999999999, 0.93675, 0.885, 0.8870000000000001, 0.861, 0.8557500000000001, 0.92825, 0.6695, 0.9512500000000002, 0.9494999999999999]}, {\"categories\": [\"0\", \"1\", \"2\", \"3\", \"4\", \"5\", \"6\", \"7\", \"8\", \"9\", \"10\", \"11\", \"12\", \"13\", \"14\", \"15\"], \"mode\": \"lines\", \"name\": \"precision_score_micro_max\", \"stepped\": true, \"type\": \"scatter\", \"data\": [0.9455000000000002, 0.9492499999999999, 0.9492499999999999, 0.9492499999999999, 0.9492499999999999, 0.9492499999999999, 0.9492499999999999, 0.9492499999999999, 0.9492499999999999, 0.9492499999999999, 0.9492499999999999, 0.9492499999999999, 0.9492499999999999, 0.9492499999999999, 0.9512500000000002, 0.9512500000000002]}], \"average_precision_score_weighted\": [{\"categories\": [\"0\", \"1\", \"2\", \"3\", \"4\", \"5\", \"6\", \"7\", \"8\", \"9\", \"10\", \"11\", \"12\", \"13\", \"14\", \"15\"], \"mode\": \"markers\", \"name\": \"average_precision_score_weighted\", \"stepped\": false, \"type\": \"scatter\", \"data\": [0.9871313653530404, 0.9874746855947191, 0.9507950433414173, 0.971131784406557, 0.976137500412325, 0.9425086316142336, 0.9376369620889488, 0.9837557414216865, 0.9454495940046426, 0.9661800288036133, 0.9312441470893988, 0.9515053855269191, 0.9781555879337148, 0.9177075855369561, 0.9881495100858204, 0.9874700506593278]}, {\"categories\": [\"0\", \"1\", \"2\", \"3\", \"4\", \"5\", \"6\", \"7\", \"8\", \"9\", \"10\", \"11\", \"12\", \"13\", \"14\", \"15\"], \"mode\": \"lines\", \"name\": \"average_precision_score_weighted_max\", \"stepped\": true, \"type\": \"scatter\", \"data\": [0.9871313653530404, 0.9874746855947191, 0.9874746855947191, 0.9874746855947191, 0.9874746855947191, 0.9874746855947191, 0.9874746855947191, 0.9874746855947191, 0.9874746855947191, 0.9874746855947191, 0.9874746855947191, 0.9874746855947191, 0.9874746855947191, 0.9874746855947191, 0.9881495100858204, 0.9881495100858204]}], \"recall_score_macro\": [{\"categories\": [\"0\", \"1\", \"2\", \"3\", \"4\", \"5\", \"6\", \"7\", \"8\", \"9\", \"10\", \"11\", \"12\", \"13\", \"14\", \"15\"], \"mode\": \"markers\", \"name\": \"recall_score_macro\", \"stepped\": false, \"type\": \"scatter\", \"data\": [0.9372532692826709, 0.9398035364631625, 0.8815707033174673, 0.8945179529923089, 0.8926159721157159, 0.867737654547453, 0.8720245862236136, 0.9226605373230278, 0.8712723228117791, 0.8929443168374632, 0.8386657660293004, 0.8738605862699252, 0.9166885853045613, 0.5060340532132835, 0.941982833296622, 0.9407041386497579]}, {\"categories\": [\"0\", \"1\", \"2\", \"3\", \"4\", \"5\", \"6\", \"7\", \"8\", \"9\", \"10\", \"11\", \"12\", \"13\", \"14\", \"15\"], \"mode\": \"lines\", \"name\": \"recall_score_macro_max\", \"stepped\": true, \"type\": \"scatter\", \"data\": [0.9372532692826709, 0.9398035364631625, 0.9398035364631625, 0.9398035364631625, 0.9398035364631625, 0.9398035364631625, 0.9398035364631625, 0.9398035364631625, 0.9398035364631625, 0.9398035364631625, 0.9398035364631625, 0.9398035364631625, 0.9398035364631625, 0.9398035364631625, 0.941982833296622, 0.941982833296622]}], \"f1_score_weighted\": [{\"categories\": [\"0\", \"1\", \"2\", \"3\", \"4\", \"5\", \"6\", \"7\", \"8\", \"9\", \"10\", \"11\", \"12\", \"13\", \"14\", \"15\"], \"mode\": \"markers\", \"name\": \"f1_score_weighted\", \"stepped\": false, \"type\": \"scatter\", \"data\": [0.9454341564275348, 0.9490836369191479, 0.8854197344355959, 0.9114011005477656, 0.913816037177152, 0.88138760164355, 0.8656512798721229, 0.936335563717658, 0.8850676297978044, 0.8887973207395744, 0.8602154769826346, 0.8591930299034711, 0.9280627925331084, 0.5410324112828497, 0.9510964517561543, 0.9493801154419568]}, {\"categories\": [\"0\", \"1\", \"2\", \"3\", \"4\", \"5\", \"6\", \"7\", \"8\", \"9\", \"10\", \"11\", \"12\", \"13\", \"14\", \"15\"], \"mode\": \"lines\", \"name\": \"f1_score_weighted_max\", \"stepped\": true, \"type\": \"scatter\", \"data\": [0.9454341564275348, 0.9490836369191479, 0.9490836369191479, 0.9490836369191479, 0.9490836369191479, 0.9490836369191479, 0.9490836369191479, 0.9490836369191479, 0.9490836369191479, 0.9490836369191479, 0.9490836369191479, 0.9490836369191479, 0.9490836369191479, 0.9490836369191479, 0.9510964517561543, 0.9510964517561543]}], \"matthews_correlation\": [{\"categories\": [\"0\", \"1\", \"2\", \"3\", \"4\", \"5\", \"6\", \"7\", \"8\", \"9\", \"10\", \"11\", \"12\", \"13\", \"14\", \"15\"], \"mode\": \"markers\", \"name\": \"matthews_correlation\", \"stepped\": false, \"type\": \"scatter\", \"data\": [0.8774077516015486, 0.8855737800809583, 0.7476506440729085, 0.8007460682977661, 0.8069178492838182, 0.7337802101301383, 0.7156437719990516, 0.8566951300443186, 0.7419425288478304, 0.7611631498009788, 0.6851822111007334, 0.7127523203383954, 0.8381354578675992, 0.07926633657927565, 0.8900771117124833, 0.8863787174895492]}, {\"categories\": [\"0\", \"1\", \"2\", \"3\", \"4\", \"5\", \"6\", \"7\", \"8\", \"9\", \"10\", \"11\", \"12\", \"13\", \"14\", \"15\"], \"mode\": \"lines\", \"name\": \"matthews_correlation_max\", \"stepped\": true, \"type\": \"scatter\", \"data\": [0.8774077516015486, 0.8855737800809583, 0.8855737800809583, 0.8855737800809583, 0.8855737800809583, 0.8855737800809583, 0.8855737800809583, 0.8855737800809583, 0.8855737800809583, 0.8855737800809583, 0.8855737800809583, 0.8855737800809583, 0.8855737800809583, 0.8855737800809583, 0.8900771117124833, 0.8900771117124833]}], \"norm_macro_recall\": [{\"categories\": [\"0\", \"1\", \"2\", \"3\", \"4\", \"5\", \"6\", \"7\", \"8\", \"9\", \"10\", \"11\", \"12\", \"13\", \"14\", \"15\"], \"mode\": \"markers\", \"name\": \"norm_macro_recall\", \"stepped\": false, \"type\": \"scatter\", \"data\": [0.8745065385653417, 0.8796070729263252, 0.7631414066349347, 0.7890359059846178, 0.7852319442314319, 0.735475309094906, 0.744049172447227, 0.8453210746460558, 0.7425446456235583, 0.7858886336749267, 0.6773315320586007, 0.7477211725398505, 0.8333771706091223, 0.012068106426567037, 0.8839656665932442, 0.8814082772995157]}, {\"categories\": [\"0\", \"1\", \"2\", \"3\", \"4\", \"5\", \"6\", \"7\", \"8\", \"9\", \"10\", \"11\", \"12\", \"13\", \"14\", \"15\"], \"mode\": \"lines\", \"name\": \"norm_macro_recall_max\", \"stepped\": true, \"type\": \"scatter\", \"data\": [0.8745065385653417, 0.8796070729263252, 0.8796070729263252, 0.8796070729263252, 0.8796070729263252, 0.8796070729263252, 0.8796070729263252, 0.8796070729263252, 0.8796070729263252, 0.8796070729263252, 0.8796070729263252, 0.8796070729263252, 0.8796070729263252, 0.8796070729263252, 0.8839656665932442, 0.8839656665932442]}], \"average_precision_score_macro\": [{\"categories\": [\"0\", \"1\", \"2\", \"3\", \"4\", \"5\", \"6\", \"7\", \"8\", \"9\", \"10\", \"11\", \"12\", \"13\", \"14\", \"15\"], \"mode\": \"markers\", \"name\": \"average_precision_score_macro\", \"stepped\": false, \"type\": \"scatter\", \"data\": [0.9842094448356205, 0.9844306175012024, 0.9401609653964715, 0.9648798234059253, 0.9707491102972445, 0.929131168932031, 0.9231345900106147, 0.9799768562920305, 0.9333404034796408, 0.9585979675413816, 0.9139270156355727, 0.9405932048225866, 0.9734987217238895, 0.8989191246056432, 0.9854680420671471, 0.9847519117925003]}, {\"categories\": [\"0\", \"1\", \"2\", \"3\", \"4\", \"5\", \"6\", \"7\", \"8\", \"9\", \"10\", \"11\", \"12\", \"13\", \"14\", \"15\"], \"mode\": \"lines\", \"name\": \"average_precision_score_macro_max\", \"stepped\": true, \"type\": \"scatter\", \"data\": [0.9842094448356205, 0.9844306175012024, 0.9844306175012024, 0.9844306175012024, 0.9844306175012024, 0.9844306175012024, 0.9844306175012024, 0.9844306175012024, 0.9844306175012024, 0.9844306175012024, 0.9844306175012024, 0.9844306175012024, 0.9844306175012024, 0.9844306175012024, 0.9854680420671471, 0.9854680420671471]}], \"precision_score_weighted\": [{\"categories\": [\"0\", \"1\", \"2\", \"3\", \"4\", \"5\", \"6\", \"7\", \"8\", \"9\", \"10\", \"11\", \"12\", \"13\", \"14\", \"15\"], \"mode\": \"markers\", \"name\": \"precision_score_weighted\", \"stepped\": false, \"type\": \"scatter\", \"data\": [0.9456456281678622, 0.9492350071847762, 0.88872171240205, 0.9117687233440538, 0.9152518610639397, 0.8816389505532412, 0.8772098368713113, 0.9365947976397347, 0.8853020493320128, 0.8960760308662747, 0.8601300996678611, 0.8790413262365797, 0.9281310266988173, 0.7092712102007039, 0.9513014403594557, 0.9496420855374673]}, {\"categories\": [\"0\", \"1\", \"2\", \"3\", \"4\", \"5\", \"6\", \"7\", \"8\", \"9\", \"10\", \"11\", \"12\", \"13\", \"14\", \"15\"], \"mode\": \"lines\", \"name\": \"precision_score_weighted_max\", \"stepped\": true, \"type\": \"scatter\", \"data\": [0.9456456281678622, 0.9492350071847762, 0.9492350071847762, 0.9492350071847762, 0.9492350071847762, 0.9492350071847762, 0.9492350071847762, 0.9492350071847762, 0.9492350071847762, 0.9492350071847762, 0.9492350071847762, 0.9492350071847762, 0.9492350071847762, 0.9492350071847762, 0.9513014403594557, 0.9513014403594557]}], \"AUC_macro\": [{\"categories\": [\"0\", \"1\", \"2\", \"3\", \"4\", \"5\", \"6\", \"7\", \"8\", \"9\", \"10\", \"11\", \"12\", \"13\", \"14\", \"15\"], \"mode\": \"markers\", \"name\": \"AUC_macro\", \"stepped\": false, \"type\": \"scatter\", \"data\": [0.9862884710053633, 0.9871815224323551, 0.9482217412321357, 0.9696144137607838, 0.9751907105522595, 0.9433751858835947, 0.9367964529320514, 0.9828105248309222, 0.9460616931126496, 0.9639678648421967, 0.931084158460435, 0.9489992530065383, 0.9764375609967721, 0.9192110225153016, 0.9874307111288259, 0.9868327913506073]}, {\"categories\": [\"0\", \"1\", \"2\", \"3\", \"4\", \"5\", \"6\", \"7\", \"8\", \"9\", \"10\", \"11\", \"12\", \"13\", \"14\", \"15\"], \"mode\": \"lines\", \"name\": \"AUC_macro_max\", \"stepped\": true, \"type\": \"scatter\", \"data\": [0.9862884710053633, 0.9871815224323551, 0.9871815224323551, 0.9871815224323551, 0.9871815224323551, 0.9871815224323551, 0.9871815224323551, 0.9871815224323551, 0.9871815224323551, 0.9871815224323551, 0.9871815224323551, 0.9871815224323551, 0.9871815224323551, 0.9871815224323551, 0.9874307111288259, 0.9874307111288259]}], \"weighted_accuracy\": [{\"categories\": [\"0\", \"1\", \"2\", \"3\", \"4\", \"5\", \"6\", \"7\", \"8\", \"9\", \"10\", \"11\", \"12\", \"13\", \"14\", \"15\"], \"mode\": \"markers\", \"name\": \"weighted_accuracy\", \"stepped\": false, \"type\": \"scatter\", \"data\": [0.9521011973297281, 0.9568328929771497, 0.8863406690515909, 0.9260153520704609, 0.9329702891889369, 0.8920533041741395, 0.8557293335782099, 0.9480211887454754, 0.8959704537778224, 0.882219385726574, 0.878875457830986, 0.8412126410219438, 0.9375068927061203, 0.8004655987006266, 0.9586753874406184, 0.9565537164859222]}, {\"categories\": [\"0\", \"1\", \"2\", \"3\", \"4\", \"5\", \"6\", \"7\", \"8\", \"9\", \"10\", \"11\", \"12\", \"13\", \"14\", \"15\"], \"mode\": \"lines\", \"name\": \"weighted_accuracy_max\", \"stepped\": true, \"type\": \"scatter\", \"data\": [0.9521011973297281, 0.9568328929771497, 0.9568328929771497, 0.9568328929771497, 0.9568328929771497, 0.9568328929771497, 0.9568328929771497, 0.9568328929771497, 0.9568328929771497, 0.9568328929771497, 0.9568328929771497, 0.9568328929771497, 0.9568328929771497, 0.9568328929771497, 0.9586753874406184, 0.9586753874406184]}], \"accuracy\": [{\"categories\": [\"0\", \"1\", \"2\", \"3\", \"4\", \"5\", \"6\", \"7\", \"8\", \"9\", \"10\", \"11\", \"12\", \"13\", \"14\", \"15\"], \"mode\": \"markers\", \"name\": \"accuracy\", \"stepped\": false, \"type\": \"scatter\", \"data\": [0.9455000000000002, 0.9492499999999999, 0.8842500000000001, 0.9120000000000001, 0.915, 0.88125, 0.8629999999999999, 0.93675, 0.885, 0.8870000000000001, 0.861, 0.8557500000000001, 0.92825, 0.6695, 0.9512500000000002, 0.9494999999999999]}, {\"categories\": [\"0\", \"1\", \"2\", \"3\", \"4\", \"5\", \"6\", \"7\", \"8\", \"9\", \"10\", \"11\", \"12\", \"13\", \"14\", \"15\"], \"mode\": \"lines\", \"name\": \"accuracy_max\", \"stepped\": true, \"type\": \"scatter\", \"data\": [0.9455000000000002, 0.9492499999999999, 0.9492499999999999, 0.9492499999999999, 0.9492499999999999, 0.9492499999999999, 0.9492499999999999, 0.9492499999999999, 0.9492499999999999, 0.9492499999999999, 0.9492499999999999, 0.9492499999999999, 0.9492499999999999, 0.9492499999999999, 0.9512500000000002, 0.9512500000000002]}], \"log_loss\": [{\"categories\": [\"0\", \"1\", \"2\", \"3\", \"4\", \"5\", \"6\", \"7\", \"8\", \"9\", \"10\", \"11\", \"12\", \"13\", \"14\", \"15\"], \"mode\": \"markers\", \"name\": \"log_loss\", \"stepped\": false, \"type\": \"scatter\", \"data\": [0.14228842732108252, 0.1473339157393293, 0.30754825365471755, 0.2706730666505628, 0.2717194921346878, 0.29699795258991407, 0.36387463019583954, 0.19161955057272534, 0.28557369050951725, 0.42496831904064375, 0.35745963788765545, 0.3462057138769266, 0.21950641942704427, 0.5442334964353571, 0.14601513627308293, 0.1453230496776906]}, {\"categories\": [\"0\", \"1\", \"2\", \"3\", \"4\", \"5\", \"6\", \"7\", \"8\", \"9\", \"10\", \"11\", \"12\", \"13\", \"14\", \"15\"], \"mode\": \"lines\", \"name\": \"log_loss_min\", \"stepped\": true, \"type\": \"scatter\", \"data\": [0.14228842732108252, 0.14228842732108252, 0.14228842732108252, 0.14228842732108252, 0.14228842732108252, 0.14228842732108252, 0.14228842732108252, 0.14228842732108252, 0.14228842732108252, 0.14228842732108252, 0.14228842732108252, 0.14228842732108252, 0.14228842732108252, 0.14228842732108252, 0.14228842732108252, 0.14228842732108252]}], \"recall_score_weighted\": [{\"categories\": [\"0\", \"1\", \"2\", \"3\", \"4\", \"5\", \"6\", \"7\", \"8\", \"9\", \"10\", \"11\", \"12\", \"13\", \"14\", \"15\"], \"mode\": \"markers\", \"name\": \"recall_score_weighted\", \"stepped\": false, \"type\": \"scatter\", \"data\": [0.9455000000000002, 0.9492499999999999, 0.8842500000000001, 0.9120000000000001, 0.915, 0.88125, 0.8629999999999999, 0.93675, 0.885, 0.8870000000000001, 0.861, 0.8557500000000001, 0.92825, 0.6695, 0.9512500000000002, 0.9494999999999999]}, {\"categories\": [\"0\", \"1\", \"2\", \"3\", \"4\", \"5\", \"6\", \"7\", \"8\", \"9\", \"10\", \"11\", \"12\", \"13\", \"14\", \"15\"], \"mode\": \"lines\", \"name\": \"recall_score_weighted_max\", \"stepped\": true, \"type\": \"scatter\", \"data\": [0.9455000000000002, 0.9492499999999999, 0.9492499999999999, 0.9492499999999999, 0.9492499999999999, 0.9492499999999999, 0.9492499999999999, 0.9492499999999999, 0.9492499999999999, 0.9492499999999999, 0.9492499999999999, 0.9492499999999999, 0.9492499999999999, 0.9492499999999999, 0.9512500000000002, 0.9512500000000002]}]}, \"metricName\": null, \"primaryMetricName\": \"AUC_weighted\", \"showLegend\": false}, \"run_metrics\": [{\"name\": \"AUC_macro\", \"run_id\": \"AutoML_8e5965c5-3e6e-44d2-9f65-2806c235f1da\", \"categories\": [0], \"series\": [{\"data\": [0.9874307111288259]}]}, {\"name\": \"accuracy\", \"run_id\": \"AutoML_8e5965c5-3e6e-44d2-9f65-2806c235f1da\", \"categories\": [0], \"series\": [{\"data\": [0.9512500000000002]}]}, {\"name\": \"log_loss\", \"run_id\": \"AutoML_8e5965c5-3e6e-44d2-9f65-2806c235f1da\", \"categories\": [0], \"series\": [{\"data\": [0.14601513627308293]}]}, {\"name\": \"norm_macro_recall\", \"run_id\": \"AutoML_8e5965c5-3e6e-44d2-9f65-2806c235f1da\", \"categories\": [0], \"series\": [{\"data\": [0.8839656665932442]}]}, {\"name\": \"f1_score_weighted\", \"run_id\": \"AutoML_8e5965c5-3e6e-44d2-9f65-2806c235f1da\", \"categories\": [0], \"series\": [{\"data\": [0.9510964517561543]}]}, {\"name\": \"precision_score_micro\", \"run_id\": \"AutoML_8e5965c5-3e6e-44d2-9f65-2806c235f1da\", \"categories\": [0], \"series\": [{\"data\": [0.9512500000000002]}]}, {\"name\": \"average_precision_score_macro\", \"run_id\": \"AutoML_8e5965c5-3e6e-44d2-9f65-2806c235f1da\", \"categories\": [0], \"series\": [{\"data\": [0.9854680420671471]}]}, {\"name\": \"recall_score_macro\", \"run_id\": \"AutoML_8e5965c5-3e6e-44d2-9f65-2806c235f1da\", \"categories\": [0], \"series\": [{\"data\": [0.941982833296622]}]}, {\"name\": \"weighted_accuracy\", \"run_id\": \"AutoML_8e5965c5-3e6e-44d2-9f65-2806c235f1da\", \"categories\": [0], \"series\": [{\"data\": [0.9586753874406184]}]}, {\"name\": \"recall_score_weighted\", \"run_id\": \"AutoML_8e5965c5-3e6e-44d2-9f65-2806c235f1da\", \"categories\": [0], \"series\": [{\"data\": [0.9512500000000002]}]}, {\"name\": \"average_precision_score_weighted\", \"run_id\": \"AutoML_8e5965c5-3e6e-44d2-9f65-2806c235f1da\", \"categories\": [0], \"series\": [{\"data\": [0.9881495100858204]}]}, {\"name\": \"precision_score_weighted\", \"run_id\": \"AutoML_8e5965c5-3e6e-44d2-9f65-2806c235f1da\", \"categories\": [0], \"series\": [{\"data\": [0.9513014403594557]}]}, {\"name\": \"recall_score_micro\", \"run_id\": \"AutoML_8e5965c5-3e6e-44d2-9f65-2806c235f1da\", \"categories\": [0], \"series\": [{\"data\": [0.9512500000000002]}]}, {\"name\": \"balanced_accuracy\", \"run_id\": \"AutoML_8e5965c5-3e6e-44d2-9f65-2806c235f1da\", \"categories\": [0], \"series\": [{\"data\": [0.941982833296622]}]}, {\"name\": \"matthews_correlation\", \"run_id\": \"AutoML_8e5965c5-3e6e-44d2-9f65-2806c235f1da\", \"categories\": [0], \"series\": [{\"data\": [0.8900771117124833]}]}, {\"name\": \"AUC_weighted\", \"run_id\": \"AutoML_8e5965c5-3e6e-44d2-9f65-2806c235f1da\", \"categories\": [0], \"series\": [{\"data\": [0.9874307111288259]}]}, {\"name\": \"f1_score_macro\", \"run_id\": \"AutoML_8e5965c5-3e6e-44d2-9f65-2806c235f1da\", \"categories\": [0], \"series\": [{\"data\": [0.9448376666530265]}]}, {\"name\": \"average_precision_score_micro\", \"run_id\": \"AutoML_8e5965c5-3e6e-44d2-9f65-2806c235f1da\", \"categories\": [0], \"series\": [{\"data\": [0.9887375840995263]}]}, {\"name\": \"precision_score_macro\", \"run_id\": \"AutoML_8e5965c5-3e6e-44d2-9f65-2806c235f1da\", \"categories\": [0], \"series\": [{\"data\": [0.9481382145988937]}]}, {\"name\": \"AUC_micro\", \"run_id\": \"AutoML_8e5965c5-3e6e-44d2-9f65-2806c235f1da\", \"categories\": [0], \"series\": [{\"data\": [0.9885640625000001]}]}, {\"name\": \"f1_score_micro\", \"run_id\": \"AutoML_8e5965c5-3e6e-44d2-9f65-2806c235f1da\", \"categories\": [0], \"series\": [{\"data\": [0.9512500000000002]}]}], \"run_logs\": \"\\nRun is completed.\", \"graph\": {}, \"widget_settings\": {\"childWidgetDisplay\": \"popup\", \"send_telemetry\": false, \"log_level\": \"INFO\", \"sdk_version\": \"1.51.0\"}, \"loading\": false}"
     },
     "metadata": {},
     "output_type": "display_data"
    }
   ],
   "source": [
    "RunDetails(run).show()"
   ]
  },
  {
   "cell_type": "code",
   "execution_count": 16,
   "id": "7cb324cb-e6d9-48af-af07-7b7bc0b99b03",
   "metadata": {},
   "outputs": [
    {
     "name": "stderr",
     "output_type": "stream",
     "text": [
      "WARNING:root:Received unrecognized parameter debug_logs\n",
      "WARNING:root:Received unrecognized parameter debug_logs\n"
     ]
    }
   ],
   "source": [
    "model_name = best_run.properties[\"model_name\"]\n",
    "registered_name = run.register_model(model_name=model_name, description=\"AutoML Diabetes\",tags=None)"
   ]
  },
  {
   "cell_type": "code",
   "execution_count": 22,
   "id": "f3e573fc-7c9d-4bce-bc31-5020d0c149cf",
   "metadata": {},
   "outputs": [],
   "source": [
    "from azureml.core.model import InferenceConfig\n",
    "from azureml.core.webservice import AciWebservice, Webservice\n",
    "from azureml.core.environment import Environment\n",
    "from azureml.core.model import Model"
   ]
  },
  {
   "cell_type": "code",
   "execution_count": 23,
   "id": "7eb468da-c167-40e8-b1b1-13e43cca9b15",
   "metadata": {},
   "outputs": [],
   "source": [
    "best_run.download_file(\"outputs/scoring_file_v_1_0_0.py\",\"inference/score.py\")"
   ]
  },
  {
   "cell_type": "code",
   "execution_count": 24,
   "id": "fc6acc71-2e42-45ed-a164-739dd74edcf5",
   "metadata": {},
   "outputs": [
    {
     "name": "stdout",
     "output_type": "stream",
     "text": [
      "Tips: You can try get_logs(): https://aka.ms/debugimage#dockerlog or local deployment: https://aka.ms/debugimage#debug-locally to debug if deployment takes longer than 10 minutes.\n",
      "Running\n",
      "2024-06-12 12:01:51+00:00 Creating Container Registry if not exists..\n",
      "2024-06-12 12:11:52+00:00 Registering the environment..\n",
      "2024-06-12 12:11:54+00:00 Building image..\n",
      "2024-06-12 12:31:41+00:00 Generating deployment configuration.\n",
      "2024-06-12 12:31:41+00:00 Submitting deployment to compute..\n",
      "2024-06-12 12:31:48+00:00 Checking the status of deployment automl-diabetes..\n",
      "2024-06-12 12:34:24+00:00 Checking the status of inference endpoint automl-diabetes.\n",
      "Succeeded\n",
      "ACI service creation operation finished, operation \"Succeeded\"\n"
     ]
    }
   ],
   "source": [
    "from azureml.automl.core.shared import constants\n",
    "\n",
    "best_run.download_file(constants.CONDA_ENV_FILE_PATH, \"myenv.yml\")\n",
    "env = Environment.from_conda_specification(name=\"myenv\", file_path=\"myenv.yml\")\n",
    "\n",
    "inference_config = InferenceConfig(entry_script=\"inference/score.py\",environment=env)\n",
    "aciconfig = AciWebservice.deploy_configuration(cpu_cores=1, memory_gb=1, description=\"Diabetes Classification\")\n",
    "service = Model.deploy(ws, \"automl-diabetes\", [registered_name], inference_config,aciconfig)\n",
    " \n",
    "service.wait_for_deployment(True)"
   ]
  },
  {
   "cell_type": "code",
   "execution_count": null,
   "id": "435f4c28-25bc-4807-8138-0acfbdcd0d3c",
   "metadata": {},
   "outputs": [],
   "source": []
  }
 ],
 "metadata": {
  "kernelspec": {
   "display_name": "Python 3.8 - AzureML",
   "language": "python",
   "name": "python38-azureml"
  },
  "language_info": {
   "codemirror_mode": {
    "name": "ipython",
    "version": 3
   },
   "file_extension": ".py",
   "mimetype": "text/x-python",
   "name": "python",
   "nbconvert_exporter": "python",
   "pygments_lexer": "ipython3",
   "version": "3.8.5"
  },
  "toc-autonumbering": true
 },
 "nbformat": 4,
 "nbformat_minor": 5
}
